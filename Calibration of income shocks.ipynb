{
 "cells": [
  {
   "cell_type": "markdown",
   "metadata": {},
   "source": [
    "# Setup"
   ]
  },
  {
   "cell_type": "code",
   "execution_count": 1,
   "metadata": {},
   "outputs": [],
   "source": [
    "import numpy as np\n",
    "from scipy import optimize"
   ]
  },
  {
   "cell_type": "markdown",
   "metadata": {},
   "source": [
    "# Objective function"
   ]
  },
  {
   "cell_type": "code",
   "execution_count": 2,
   "metadata": {},
   "outputs": [],
   "source": [
    "def simulate(sigma_psi,sigma_xi,T,psi,xi):\n",
    "    \n",
    "    # a. time loop\n",
    "    p = np.zeros((T*12,N))\n",
    "    y = np.zeros((T*12,N))\n",
    "    for t in range(12*T):\n",
    "        if t == 0:\n",
    "            p[t,:] = psi[t,:]\n",
    "        else:\n",
    "            p[t,:] = p[t-1,:] + psi[t,:]\n",
    "        y[t,:] = p[t,:] + xi[t,:]\n",
    "    \n",
    "    # b. aggregate to annual\n",
    "    Y = np.zeros((T,N))\n",
    "    for t in range(T):\n",
    "        Y[t,:] = np.log(np.sum(np.exp(y[12*t:12*(t+1),:]),axis=0)) \n",
    "    \n",
    "    return Y"
   ]
  },
  {
   "cell_type": "code",
   "execution_count": 3,
   "metadata": {},
   "outputs": [],
   "source": [
    "def cov_psi(Y):\n",
    "    return np.cov(Y[2,:]-Y[1,:],Y[3,:]-Y[0,:])[0,1]\n",
    "\n",
    "def cov_xi(Y):\n",
    "    return -np.cov(Y[2,:]-Y[1,:],Y[1,:]-Y[0,:])[0,1]"
   ]
  },
  {
   "cell_type": "code",
   "execution_count": 4,
   "metadata": {},
   "outputs": [],
   "source": [
    "def obj(x,T,psi_raw,xi_raw):\n",
    "\n",
    "    # a. unpack\n",
    "    sigma_psi = x[0]\n",
    "    sigma_xi = x[1]\n",
    "    \n",
    "    # b. scale shocks\n",
    "    psi = -0.5*sigma_psi**2 + sigma_psi*psi_raw\n",
    "    xi = -0.5*sigma_xi**2 + sigma_xi*xi_raw\n",
    "    \n",
    "    # c. simulate\n",
    "    Y = simulate(sigma_psi,sigma_xi,T,psi,xi)\n",
    "    \n",
    "    # d. objective function\n",
    "    obj = 0\n",
    "    obj += 1000*(0.0054 - cov_psi(Y))**2\n",
    "    obj += 1000*(0.0072 - cov_xi(Y))**2\n",
    "    \n",
    "    return obj"
   ]
  },
  {
   "cell_type": "markdown",
   "metadata": {},
   "source": [
    "# Optimize"
   ]
  },
  {
   "cell_type": "markdown",
   "metadata": {},
   "source": [
    "**Settings:**"
   ]
  },
  {
   "cell_type": "code",
   "execution_count": 5,
   "metadata": {},
   "outputs": [],
   "source": [
    "N = 1_000_000\n",
    "T = 4\n",
    "\n",
    "np.random.seed(1066)\n",
    "psi_raw = np.random.normal(size=(T*12,N))\n",
    "xi_raw = np.random.normal(size=(T*12,N))"
   ]
  },
  {
   "cell_type": "markdown",
   "metadata": {},
   "source": [
    "**Call:**"
   ]
  },
  {
   "cell_type": "code",
   "execution_count": 6,
   "metadata": {},
   "outputs": [
    {
     "name": "stdout",
     "output_type": "stream",
     "text": [
      "Optimization terminated successfully.\n",
      "         Current function value: 0.000000\n",
      "         Iterations: 6\n",
      "         Function evaluations: 40\n",
      "         Gradient evaluations: 10\n"
     ]
    }
   ],
   "source": [
    "x0 = np.zeros(2)\n",
    "x0[0] = np.sqrt(0.0054/12)\n",
    "x0[1] = np.sqrt(0.0072*12)\n",
    "\n",
    "result = optimize.minimize(obj,x0,args=(T,psi_raw,xi_raw),options={'disp':True})"
   ]
  },
  {
   "cell_type": "markdown",
   "metadata": {},
   "source": [
    "**Estimates:**"
   ]
  },
  {
   "cell_type": "code",
   "execution_count": 7,
   "metadata": {},
   "outputs": [
    {
     "name": "stdout",
     "output_type": "stream",
     "text": [
      "sigma_psi = 0.02122033 [sigma_psi^2 = 0.00045030]\n",
      "sigma_xi  = 0.30467480 [sigma_xi^2  = 0.09282673]\n"
     ]
    }
   ],
   "source": [
    "sigma_psi = result.x[0]\n",
    "sigma_xi = result.x[1]\n",
    "\n",
    "print(f'sigma_psi = {sigma_psi:.8f} [sigma_psi^2 = {sigma_psi**2:.8f}]')\n",
    "print(f'sigma_xi  = {sigma_xi:.8f} [sigma_xi^2  = {sigma_xi**2:.8f}]')"
   ]
  },
  {
   "cell_type": "markdown",
   "metadata": {},
   "source": [
    "**Implied covariances:**"
   ]
  },
  {
   "cell_type": "code",
   "execution_count": 8,
   "metadata": {},
   "outputs": [],
   "source": [
    "psi = -0.5*sigma_psi**2 + sigma_psi*psi_raw\n",
    "xi = -0.5*sigma_xi**2 + sigma_xi*xi_raw\n",
    "Y = simulate(sigma_psi,sigma_xi,T,psi,xi)"
   ]
  },
  {
   "cell_type": "code",
   "execution_count": 9,
   "metadata": {},
   "outputs": [
    {
     "name": "stdout",
     "output_type": "stream",
     "text": [
      "cov_psi: 0.00540000\n",
      "cov_xi: 0.00720000\n"
     ]
    }
   ],
   "source": [
    "print(f'cov_psi: {cov_psi(Y):.8f}')\n",
    "print(f'cov_xi: {cov_xi(Y):.8f}')"
   ]
  }
 ],
 "metadata": {
  "kernelspec": {
   "display_name": "Python 3",
   "language": "python",
   "name": "python3"
  },
  "language_info": {
   "codemirror_mode": {
    "name": "ipython",
    "version": 3
   },
   "file_extension": ".py",
   "mimetype": "text/x-python",
   "name": "python",
   "nbconvert_exporter": "python",
   "pygments_lexer": "ipython3",
   "version": "3.7.3"
  }
 },
 "nbformat": 4,
 "nbformat_minor": 2
}
